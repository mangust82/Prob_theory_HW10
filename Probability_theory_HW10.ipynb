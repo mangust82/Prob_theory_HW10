{
 "cells": [
  {
   "cell_type": "markdown",
   "id": "7cbc6114",
   "metadata": {},
   "source": [
    "Провести дисперсионный анализ для определения того, есть ли различия среднего роста среди взрослых футболистов, хоккеистов и штангистов.\n",
    "Даны значения роста в трех группах случайно выбранных спортсменов:\n",
    "\n",
    "Футболисты: 173, 175, 180, 178, 177, 185, 183, 182.\n",
    "\n",
    "Хоккеисты: 177, 179, 180, 188, 177, 172, 171, 184, 180.\n",
    "\n",
    "Штангисты: 172, 173, 169, 177, 166, 180, 178, 177, 172, 166, 170."
   ]
  },
  {
   "cell_type": "code",
   "execution_count": 5,
   "id": "1db67ad2",
   "metadata": {},
   "outputs": [],
   "source": [
    "from scipy import stats\n",
    "import pandas as pd\n",
    "import numpy as np\n",
    "\n",
    "footballers = np.array([173, 175, 180, 178, 177, 185, 183, 182])\n",
    "hokkey = np.array([177, 179, 180, 188, 177, 172, 171, 184, 180])\n",
    "lifter = np.array([172, 173, 169, 177, 166, 180, 178, 177, 172, 166, 170])"
   ]
  },
  {
   "cell_type": "markdown",
   "id": "1b50cda8",
   "metadata": {},
   "source": [
    "**Проверим нормальность данных выборок по тесту Шапиро-Уилко:**"
   ]
  },
  {
   "cell_type": "code",
   "execution_count": 6,
   "id": "16e933f2",
   "metadata": {},
   "outputs": [
    {
     "data": {
      "text/plain": [
       "ShapiroResult(statistic=0.9775082468986511, pvalue=0.9495404362678528)"
      ]
     },
     "execution_count": 6,
     "metadata": {},
     "output_type": "execute_result"
    }
   ],
   "source": [
    "stats.shapiro(footballers)"
   ]
  },
  {
   "cell_type": "code",
   "execution_count": 8,
   "id": "db1f8ca5",
   "metadata": {},
   "outputs": [
    {
     "data": {
      "text/plain": [
       "ShapiroResult(statistic=0.9579196572303772, pvalue=0.7763139009475708)"
      ]
     },
     "execution_count": 8,
     "metadata": {},
     "output_type": "execute_result"
    }
   ],
   "source": [
    "stats.shapiro(hokkey)"
   ]
  },
  {
   "cell_type": "code",
   "execution_count": 7,
   "id": "6ac09bae",
   "metadata": {},
   "outputs": [
    {
     "data": {
      "text/plain": [
       "ShapiroResult(statistic=0.9386808276176453, pvalue=0.5051165223121643)"
      ]
     },
     "execution_count": 7,
     "metadata": {},
     "output_type": "execute_result"
    }
   ],
   "source": [
    "stats.shapiro(lifter)"
   ]
  },
  {
   "cell_type": "markdown",
   "id": "a6dec4d3",
   "metadata": {},
   "source": [
    "**Все выборки имеют нормальное распределение.**\n",
    "**Проверим на равенство дисперсий:**"
   ]
  },
  {
   "cell_type": "code",
   "execution_count": 9,
   "id": "174c86ce",
   "metadata": {},
   "outputs": [
    {
     "data": {
      "text/plain": [
       "BartlettResult(statistic=0.4640521043406442, pvalue=0.7929254656083131)"
      ]
     },
     "execution_count": 9,
     "metadata": {},
     "output_type": "execute_result"
    }
   ],
   "source": [
    "stats.bartlett(footballers, hokkey, lifter)"
   ]
  },
  {
   "cell_type": "markdown",
   "id": "b7db2fdf",
   "metadata": {},
   "source": [
    "**Используя критерий фишера проведем анализ выборок**"
   ]
  },
  {
   "cell_type": "code",
   "execution_count": 12,
   "id": "93216743",
   "metadata": {},
   "outputs": [
    {
     "data": {
      "text/plain": [
       "F_onewayResult(statistic=5.500053450812596, pvalue=0.010482206918698694)"
      ]
     },
     "execution_count": 12,
     "metadata": {},
     "output_type": "execute_result"
    }
   ],
   "source": [
    "stats.f_oneway(footballers, hokkey, lifter)"
   ]
  },
  {
   "cell_type": "markdown",
   "id": "35a532e1",
   "metadata": {},
   "source": [
    "**На уровне статистической значимости alpha = 0.05 выборки имеют статистически значимые различия\n",
    "Проведем post Hoc Test для оценки различий м\\д выборками:**"
   ]
  },
  {
   "cell_type": "code",
   "execution_count": 62,
   "id": "566ebb2e",
   "metadata": {},
   "outputs": [
    {
     "data": {
      "text/html": [
       "<div>\n",
       "<style scoped>\n",
       "    .dataframe tbody tr th:only-of-type {\n",
       "        vertical-align: middle;\n",
       "    }\n",
       "\n",
       "    .dataframe tbody tr th {\n",
       "        vertical-align: top;\n",
       "    }\n",
       "\n",
       "    .dataframe thead th {\n",
       "        text-align: right;\n",
       "    }\n",
       "</style>\n",
       "<table border=\"1\" class=\"dataframe\">\n",
       "  <thead>\n",
       "    <tr style=\"text-align: right;\">\n",
       "      <th></th>\n",
       "      <th>group</th>\n",
       "      <th>height</th>\n",
       "    </tr>\n",
       "  </thead>\n",
       "  <tbody>\n",
       "    <tr>\n",
       "      <th>0</th>\n",
       "      <td>footballers</td>\n",
       "      <td>173</td>\n",
       "    </tr>\n",
       "    <tr>\n",
       "      <th>1</th>\n",
       "      <td>footballers</td>\n",
       "      <td>175</td>\n",
       "    </tr>\n",
       "    <tr>\n",
       "      <th>2</th>\n",
       "      <td>footballers</td>\n",
       "      <td>180</td>\n",
       "    </tr>\n",
       "    <tr>\n",
       "      <th>3</th>\n",
       "      <td>footballers</td>\n",
       "      <td>178</td>\n",
       "    </tr>\n",
       "    <tr>\n",
       "      <th>4</th>\n",
       "      <td>footballers</td>\n",
       "      <td>177</td>\n",
       "    </tr>\n",
       "    <tr>\n",
       "      <th>5</th>\n",
       "      <td>footballers</td>\n",
       "      <td>185</td>\n",
       "    </tr>\n",
       "    <tr>\n",
       "      <th>6</th>\n",
       "      <td>footballers</td>\n",
       "      <td>183</td>\n",
       "    </tr>\n",
       "    <tr>\n",
       "      <th>7</th>\n",
       "      <td>footballers</td>\n",
       "      <td>182</td>\n",
       "    </tr>\n",
       "    <tr>\n",
       "      <th>8</th>\n",
       "      <td>hokkey</td>\n",
       "      <td>177</td>\n",
       "    </tr>\n",
       "    <tr>\n",
       "      <th>9</th>\n",
       "      <td>hokkey</td>\n",
       "      <td>179</td>\n",
       "    </tr>\n",
       "    <tr>\n",
       "      <th>10</th>\n",
       "      <td>hokkey</td>\n",
       "      <td>180</td>\n",
       "    </tr>\n",
       "    <tr>\n",
       "      <th>11</th>\n",
       "      <td>hokkey</td>\n",
       "      <td>188</td>\n",
       "    </tr>\n",
       "    <tr>\n",
       "      <th>12</th>\n",
       "      <td>hokkey</td>\n",
       "      <td>177</td>\n",
       "    </tr>\n",
       "    <tr>\n",
       "      <th>13</th>\n",
       "      <td>hokkey</td>\n",
       "      <td>172</td>\n",
       "    </tr>\n",
       "    <tr>\n",
       "      <th>14</th>\n",
       "      <td>hokkey</td>\n",
       "      <td>171</td>\n",
       "    </tr>\n",
       "    <tr>\n",
       "      <th>15</th>\n",
       "      <td>hokkey</td>\n",
       "      <td>184</td>\n",
       "    </tr>\n",
       "    <tr>\n",
       "      <th>16</th>\n",
       "      <td>hokkey</td>\n",
       "      <td>180</td>\n",
       "    </tr>\n",
       "    <tr>\n",
       "      <th>17</th>\n",
       "      <td>lifter</td>\n",
       "      <td>172</td>\n",
       "    </tr>\n",
       "    <tr>\n",
       "      <th>18</th>\n",
       "      <td>lifter</td>\n",
       "      <td>173</td>\n",
       "    </tr>\n",
       "    <tr>\n",
       "      <th>19</th>\n",
       "      <td>lifter</td>\n",
       "      <td>169</td>\n",
       "    </tr>\n",
       "    <tr>\n",
       "      <th>20</th>\n",
       "      <td>lifter</td>\n",
       "      <td>177</td>\n",
       "    </tr>\n",
       "    <tr>\n",
       "      <th>21</th>\n",
       "      <td>lifter</td>\n",
       "      <td>166</td>\n",
       "    </tr>\n",
       "    <tr>\n",
       "      <th>22</th>\n",
       "      <td>lifter</td>\n",
       "      <td>180</td>\n",
       "    </tr>\n",
       "    <tr>\n",
       "      <th>23</th>\n",
       "      <td>lifter</td>\n",
       "      <td>178</td>\n",
       "    </tr>\n",
       "    <tr>\n",
       "      <th>24</th>\n",
       "      <td>lifter</td>\n",
       "      <td>177</td>\n",
       "    </tr>\n",
       "    <tr>\n",
       "      <th>25</th>\n",
       "      <td>lifter</td>\n",
       "      <td>172</td>\n",
       "    </tr>\n",
       "    <tr>\n",
       "      <th>26</th>\n",
       "      <td>lifter</td>\n",
       "      <td>166</td>\n",
       "    </tr>\n",
       "    <tr>\n",
       "      <th>27</th>\n",
       "      <td>lifter</td>\n",
       "      <td>170</td>\n",
       "    </tr>\n",
       "  </tbody>\n",
       "</table>\n",
       "</div>"
      ],
      "text/plain": [
       "          group  height\n",
       "0   footballers     173\n",
       "1   footballers     175\n",
       "2   footballers     180\n",
       "3   footballers     178\n",
       "4   footballers     177\n",
       "5   footballers     185\n",
       "6   footballers     183\n",
       "7   footballers     182\n",
       "8        hokkey     177\n",
       "9        hokkey     179\n",
       "10       hokkey     180\n",
       "11       hokkey     188\n",
       "12       hokkey     177\n",
       "13       hokkey     172\n",
       "14       hokkey     171\n",
       "15       hokkey     184\n",
       "16       hokkey     180\n",
       "17       lifter     172\n",
       "18       lifter     173\n",
       "19       lifter     169\n",
       "20       lifter     177\n",
       "21       lifter     166\n",
       "22       lifter     180\n",
       "23       lifter     178\n",
       "24       lifter     177\n",
       "25       lifter     172\n",
       "26       lifter     166\n",
       "27       lifter     170"
      ]
     },
     "execution_count": 62,
     "metadata": {},
     "output_type": "execute_result"
    }
   ],
   "source": [
    "from statsmodels.stats.multicomp import pairwise_tukeyhsd\n",
    "\n",
    "data = pd.DataFrame({'group': ['footballers']*8 + ['hokkey']*9 + ['lifter']*11,\n",
    "                     'height': [173, 175, 180, 178, 177, 185, 183, 182,\n",
    "                                177, 179, 180, 188, 177, 172, 171, 184, 180,\n",
    "                                172, 173, 169, 177, 166, 180, 178, 177, 172, 166, 170]})\n",
    "data\n"
   ]
  },
  {
   "cell_type": "code",
   "execution_count": 67,
   "id": "55cafa99",
   "metadata": {},
   "outputs": [
    {
     "name": "stdout",
     "output_type": "stream",
     "text": [
      "   Multiple Comparison of Means - Tukey HSD, FWER=0.05    \n",
      "==========================================================\n",
      "   group1   group2 meandiff p-adj   lower    upper  reject\n",
      "----------------------------------------------------------\n",
      "footballers hokkey  -0.4583  0.979  -6.2732  5.3566  False\n",
      "footballers lifter  -6.3977 0.0219 -11.9583 -0.8372   True\n",
      "     hokkey lifter  -5.9394 0.0284 -11.3181 -0.5607   True\n",
      "----------------------------------------------------------\n"
     ]
    }
   ],
   "source": [
    "tukey = pairwise_tukeyhsd(data[\"height\"], data[\"group\"], alpha = 0.05)\n",
    "print(tukey)"
   ]
  },
  {
   "cell_type": "markdown",
   "id": "0618134e",
   "metadata": {},
   "source": [
    "**Статистически значимые различия наблюдаются между ростом штангистов и других спортсменов. М\\д футболистами и хоккеистами статистически значимых различий в росте нет.** "
   ]
  },
  {
   "cell_type": "code",
   "execution_count": null,
   "id": "8d3feb02",
   "metadata": {},
   "outputs": [],
   "source": []
  }
 ],
 "metadata": {
  "kernelspec": {
   "display_name": "Python 3 (ipykernel)",
   "language": "python",
   "name": "python3"
  },
  "language_info": {
   "codemirror_mode": {
    "name": "ipython",
    "version": 3
   },
   "file_extension": ".py",
   "mimetype": "text/x-python",
   "name": "python",
   "nbconvert_exporter": "python",
   "pygments_lexer": "ipython3",
   "version": "3.9.13"
  }
 },
 "nbformat": 4,
 "nbformat_minor": 5
}
